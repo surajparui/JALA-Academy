{
 "cells": [
  {
   "cell_type": "markdown",
   "metadata": {},
   "source": [
    "1. Write a function to add integer values of an array"
   ]
  },
  {
   "cell_type": "code",
   "execution_count": 1,
   "metadata": {},
   "outputs": [
    {
     "name": "stdout",
     "output_type": "stream",
     "text": [
      "45\n",
      "45\n"
     ]
    }
   ],
   "source": [
    "array=[1,2,3,4,5,6,7,8,9,0]\n",
    "sumi=0\n",
    "for i in array:\n",
    "    sumi=sumi+i\n",
    "print(sumi)\n",
    "print(sum(array))"
   ]
  },
  {
   "cell_type": "markdown",
   "metadata": {},
   "source": [
    "2. Write a function to calculate the average value of an array of integers"
   ]
  },
  {
   "cell_type": "code",
   "execution_count": 2,
   "metadata": {},
   "outputs": [
    {
     "name": "stdout",
     "output_type": "stream",
     "text": [
      "4.5\n",
      "4.5\n"
     ]
    }
   ],
   "source": [
    "array=[1,2,3,4,5,6,7,8,9,0]\n",
    "sumi=0\n",
    "for i in array:\n",
    "    sumi=sumi+i\n",
    "print(sumi/len(array))\n",
    "print(sum(array)/len(array))"
   ]
  },
  {
   "cell_type": "markdown",
   "metadata": {},
   "source": [
    "3. Write a program to find the index of an array element"
   ]
  },
  {
   "cell_type": "code",
   "execution_count": 8,
   "metadata": {},
   "outputs": [
    {
     "name": "stdout",
     "output_type": "stream",
     "text": [
      "Number: 5\n",
      "4 14 "
     ]
    }
   ],
   "source": [
    "array=[1,2,3,4,5,6,7,8,9,0,1,2,3,4,5,6,7,8,9,0]\n",
    "sumi=0\n",
    "counter=0\n",
    "n=int(input(\"Enter the number to be found\"))\n",
    "print(\"Number:\",n)\n",
    "for i in range(len(array)):\n",
    "    if n==array[i]:\n",
    "        print(i,end=\" \")\n",
    "        counter=1\n",
    "if counter==0:\n",
    "    print(\"Number Do Not Exist\")"
   ]
  },
  {
   "cell_type": "markdown",
   "metadata": {},
   "source": [
    "4. Write a function to test if array contains a specific value"
   ]
  },
  {
   "cell_type": "code",
   "execution_count": 12,
   "metadata": {},
   "outputs": [
    {
     "name": "stdout",
     "output_type": "stream",
     "text": [
      "Number: 5\n",
      "Number Exist\n"
     ]
    }
   ],
   "source": [
    "array=[1,2,3,4,5,6,7,8,9,0,1,2,3,4,5,6,7,8,9,0]\n",
    "sumi=0\n",
    "counter=0\n",
    "n=int(input(\"Enter the number to be found\"))\n",
    "print(\"Number:\",n)\n",
    "for i in range(len(array)):\n",
    "    if n==array[i]:\n",
    "        print(\"Number Exist\")\n",
    "        counter=1\n",
    "        break\n",
    "if counter==0:\n",
    "    print(\"Number Do Not Exist\")"
   ]
  },
  {
   "cell_type": "markdown",
   "metadata": {},
   "source": [
    "5. Write a function to remove a specific element from an array"
   ]
  },
  {
   "cell_type": "code",
   "execution_count": 16,
   "metadata": {},
   "outputs": [
    {
     "name": "stdout",
     "output_type": "stream",
     "text": [
      "Number: 5\n",
      "[1, 2, 3, 4, 6, 7, 8, 9, 0, 1, 2, 3, 4, 6, 7, 8, 9, 0]\n",
      "[1, 2, 3, 4, 6, 7, 8, 9, 0, 1, 2, 3, 4, 6, 7, 8, 9, 0]\n"
     ]
    }
   ],
   "source": [
    "array=[1,2,3,4,5,6,7,8,9,0,1,2,3,4,5,6,7,8,9,0]\n",
    "sumi=0\n",
    "counter=0\n",
    "n=int(input(\"Enter the number to be removed\"))\n",
    "print(\"Number:\",n)\n",
    "while(n in array):\n",
    "    array.remove(n)\n",
    "    counter=1\n",
    "print(array)\n",
    "if counter==0:\n",
    "    print(\"Number Do Not Exist\")\n",
    "print(array)"
   ]
  },
  {
   "cell_type": "markdown",
   "metadata": {},
   "source": [
    "6. Write a function to copy an array to another array"
   ]
  },
  {
   "cell_type": "code",
   "execution_count": 19,
   "metadata": {},
   "outputs": [
    {
     "name": "stdout",
     "output_type": "stream",
     "text": [
      "Array1 [1, 2, 3, 4, 5, 6, 7, 8, 9, 0, 1, 2, 3, 4, 5, 6, 7, 8, 9]\n",
      "Array2 [1, 2, 3, 4, 5, 6, 7, 8, 9, 0, 1, 2, 3, 4, 5, 6, 7, 8, 9]\n"
     ]
    }
   ],
   "source": [
    "array=[1,2,3,4,5,6,7,8,9,0,1,2,3,4,5,6,7,8,9]\n",
    "array1=[]\n",
    "array2=[]\n",
    "array2=array.copy()\n",
    "for i in array:\n",
    "    array1.append(i)\n",
    "print(\"Array1\",array1)\n",
    "print(\"Array2\",array2)\n"
   ]
  },
  {
   "cell_type": "markdown",
   "metadata": {},
   "source": [
    "7. Write a function to insert an element at a specific position in the array"
   ]
  },
  {
   "cell_type": "code",
   "execution_count": 20,
   "metadata": {},
   "outputs": [
    {
     "name": "stdout",
     "output_type": "stream",
     "text": [
      "[1, 2, 3, 4, 5, 1000, 6, 7, 8, 9, 0, 1, 2, 3, 4, 5, 6, 7, 8, 9, 0]\n"
     ]
    }
   ],
   "source": [
    "list1 = [1,2,3,4,5,6,7,8,9,0,1,2,3,4,5,6,7,8,9,0]\n",
    "list1.insert(5, 1000)\n",
    "print(list1)"
   ]
  },
  {
   "cell_type": "markdown",
   "metadata": {},
   "source": [
    "8. Write a function to find the minimum and maximum value of an array"
   ]
  },
  {
   "cell_type": "code",
   "execution_count": 22,
   "metadata": {},
   "outputs": [
    {
     "name": "stdout",
     "output_type": "stream",
     "text": [
      "Larger Number: 900  Smaller Number: -8\n"
     ]
    }
   ],
   "source": [
    "list1=[1,2,3,4,5,6,7,8,9,0,1,2,3,4,5,6,7,-8,900,0]\n",
    "maxi=list1[0]\n",
    "mini=list1[0]\n",
    "for i in range(len(list1)):\n",
    "    if maxi<list1[i]:\n",
    "        maxi=list1[i]\n",
    "    if mini>list1[i]:\n",
    "        mini=list1[i]\n",
    "print(\"Larger Number:\",maxi,\" Smaller Number:\",mini)"
   ]
  },
  {
   "cell_type": "markdown",
   "metadata": {},
   "source": [
    "9. Write a function to reverse an array of integer values"
   ]
  },
  {
   "cell_type": "code",
   "execution_count": 27,
   "metadata": {},
   "outputs": [
    {
     "name": "stdout",
     "output_type": "stream",
     "text": [
      "Number: 1256358974\n",
      "Reversed Number: 4798536521\n"
     ]
    }
   ],
   "source": [
    "n=int(input())\n",
    "print(\"Number:\",n)\n",
    "m=0\n",
    "while(n):\n",
    "    m=10*m+n%10\n",
    "    n=n//10\n",
    "print(\"Reversed Number:\",m)"
   ]
  },
  {
   "cell_type": "markdown",
   "metadata": {},
   "source": [
    "10. Write a function to find the duplicate values of an array"
   ]
  },
  {
   "cell_type": "code",
   "execution_count": 33,
   "metadata": {},
   "outputs": [
    {
     "name": "stdout",
     "output_type": "stream",
     "text": [
      "[1, 1, 1, 1, 2, 2, 2, 2, 3, 3, 3, 3, 4, 4, 4, 4, 5, 5, 5, 5, 6, 6, 6]\n",
      "Duplicate Value [1, 1, 1, 2, 2, 2, 3, 3, 3, 4, 4, 4, 5, 5, 5, 6, 6]\n"
     ]
    }
   ],
   "source": [
    "list1=[1,2,3,4,5,6,1,2,3,4,5,6,1,2,3,4,5,6,1,2,3,4,5]\n",
    "list1.sort()\n",
    "print(list1)\n",
    "list2=[]\n",
    "for i in range(len(list1)-1):\n",
    "    if list1[i]==list1[i+1]:\n",
    "        list2.append(list1[i+1])\n",
    "print(\"Duplicate Value\",list2)\n"
   ]
  },
  {
   "cell_type": "markdown",
   "metadata": {},
   "source": [
    "11. Write a program to find the common values between two arrays"
   ]
  },
  {
   "cell_type": "code",
   "execution_count": 34,
   "metadata": {},
   "outputs": [
    {
     "name": "stdout",
     "output_type": "stream",
     "text": [
      "Common Values: [1, 2, 3, 4, 5, 6]\n"
     ]
    }
   ],
   "source": [
    "list1=[1,2,3,4,5,6,1,2,3,4,5,6,1,2,3,4,5,6,1,2,3,4,5]\n",
    "list2=[1,2,3,4,5,6,7,8,9,0,11,12,13,14,15,16,17,18,19,10]\n",
    "list1=set(list1)\n",
    "list1=list(list1)\n",
    "list1.sort()\n",
    "list2=set(list2)\n",
    "list2=list(list2)\n",
    "list2.sort()\n",
    "common=[]\n",
    "if len(list1)>=len(list2):\n",
    "    for i in list2:\n",
    "        if i in list1:\n",
    "            common.append(i)\n",
    "elif len(list1)<len(list2):\n",
    "    for i in list1:\n",
    "        if i in list2:\n",
    "            common.append(i)\n",
    "print(\"Common Values:\",common)"
   ]
  },
  {
   "cell_type": "markdown",
   "metadata": {},
   "source": [
    "12. Write a method to remove duplicate elements from an array"
   ]
  },
  {
   "cell_type": "code",
   "execution_count": 36,
   "metadata": {},
   "outputs": [
    {
     "name": "stdout",
     "output_type": "stream",
     "text": [
      "[1, 2, 3, 4, 5, 6, 1, 2, 3, 4, 5, 6, 1, 2, 3, 4, 5, 6, 1, 2, 3, 4, 5]\n",
      "[1, 2, 3, 4, 5, 6]\n"
     ]
    }
   ],
   "source": [
    "list1=[1,2,3,4,5,6,1,2,3,4,5,6,1,2,3,4,5,6,1,2,3,4,5]\n",
    "print(list1)\n",
    "list1=set(list1)\n",
    "list1=list(list1)\n",
    "print(list1)"
   ]
  },
  {
   "cell_type": "markdown",
   "metadata": {},
   "source": [
    "13. Write a method to find the second largest number in an array"
   ]
  },
  {
   "cell_type": "code",
   "execution_count": 38,
   "metadata": {},
   "outputs": [
    {
     "name": "stdout",
     "output_type": "stream",
     "text": [
      "[1, 2, 3, 4, 5, 6, 7, 8, 9, 0, 11, 12, 13, 14, 15, 16, 17, 18, 19, 10]\n",
      "[0, 1, 2, 3, 4, 5, 6, 7, 8, 9, 10, 11, 12, 13, 14, 15, 16, 17, 18, 19]\n",
      "18\n"
     ]
    }
   ],
   "source": [
    "list1=[1,2,3,4,5,6,7,8,9,0,11,12,13,14,15,16,17,18,19,10]\n",
    "print(list1)\n",
    "list1=set(list1)\n",
    "list1=list(list1)\n",
    "list1.sort()\n",
    "print(list1)\n",
    "print(list1[-2])"
   ]
  },
  {
   "cell_type": "markdown",
   "metadata": {},
   "source": [
    "14. Write a method to find the second largest number in an array"
   ]
  },
  {
   "cell_type": "code",
   "execution_count": null,
   "metadata": {},
   "outputs": [],
   "source": [
    "# same as question 13."
   ]
  },
  {
   "cell_type": "markdown",
   "metadata": {},
   "source": [
    "15. Write a method to find number of even number and odd numbers in an array"
   ]
  },
  {
   "cell_type": "code",
   "execution_count": 41,
   "metadata": {},
   "outputs": [
    {
     "name": "stdout",
     "output_type": "stream",
     "text": [
      "[1, 2, 3, 4, 5, 6, 7, 8, 9, 0, 11, 12, 13, 14, 15, 16, 17, 18, 19, 10]\n",
      "Even: 10\n",
      "Odd:  10\n"
     ]
    }
   ],
   "source": [
    "list1=[1,2,3,4,5,6,7,8,9,0,11,12,13,14,15,16,17,18,19,10]\n",
    "print(list1)\n",
    "even=0\n",
    "odd=0\n",
    "for i in list1:\n",
    "    if i%2==0:\n",
    "        even=even +1\n",
    "    elif i%2==1:\n",
    "        odd=odd+1\n",
    "print(\"Even:\",even)\n",
    "print(\"Odd: \",odd)\n"
   ]
  },
  {
   "cell_type": "markdown",
   "metadata": {},
   "source": [
    "16. Write a function to get the difference of largest and smallest value"
   ]
  },
  {
   "cell_type": "code",
   "execution_count": 43,
   "metadata": {},
   "outputs": [
    {
     "name": "stdout",
     "output_type": "stream",
     "text": [
      "[1, 2, 3, 4, 5, 6, 7, 8, 9, 0, 11, 12, 13, 14, 15, 16, 17, 18, 19, 10]\n",
      "[0, 1, 2, 3, 4, 5, 6, 7, 8, 9, 10, 11, 12, 13, 14, 15, 16, 17, 18, 19]\n",
      "19 - 0 = 19\n"
     ]
    }
   ],
   "source": [
    "list1=[1,2,3,4,5,6,7,8,9,0,11,12,13,14,15,16,17,18,19,10]\n",
    "print(list1)\n",
    "list1=set(list1)\n",
    "list1=list(list1)\n",
    "list1.sort()\n",
    "print(list1)\n",
    "print(list1[-1],\"-\",list1[0],\"=\",list1[-1]-list1[0])"
   ]
  },
  {
   "cell_type": "markdown",
   "metadata": {},
   "source": [
    "17. Write a method to verify if the array contains two specified elements(12,23)"
   ]
  },
  {
   "cell_type": "code",
   "execution_count": 44,
   "metadata": {},
   "outputs": [
    {
     "name": "stdout",
     "output_type": "stream",
     "text": [
      "12 is in the List\n",
      "23 is not in the list\n"
     ]
    }
   ],
   "source": [
    "list1=[1,2,3,4,5,6,7,8,9,0,11,12,13,14,15,16,17,18,19,10]\n",
    "if 12 in list1:\n",
    "    print(\"12 is in the List\")\n",
    "else:\n",
    "    print(\"12 is not in the list\")\n",
    "if 23 in list1:\n",
    "    print(\"23 is in the List\")\n",
    "else:\n",
    "    print(\"23 is not in the list\")\n"
   ]
  },
  {
   "cell_type": "markdown",
   "metadata": {},
   "source": [
    "18. Write a program to remove the duplicate elements and return the new array"
   ]
  },
  {
   "cell_type": "code",
   "execution_count": 46,
   "metadata": {},
   "outputs": [
    {
     "name": "stdout",
     "output_type": "stream",
     "text": [
      "[1, 2, 3, 4, 5, 6, 1, 2, 3, 4, 5, 6, 1, 2, 3, 4, 5, 6, 1, 2, 3, 4, 5]\n",
      "[1, 2, 3, 4, 5, 6]\n"
     ]
    }
   ],
   "source": [
    "list1=[1,2,3,4,5,6,1,2,3,4,5,6,1,2,3,4,5,6,1,2,3,4,5]\n",
    "print(list1)\n",
    "list1=set(list1)\n",
    "list1=list(list1)\n",
    "print(list1)"
   ]
  }
 ],
 "metadata": {
  "kernelspec": {
   "display_name": "Python 3.10.3 64-bit",
   "language": "python",
   "name": "python3"
  },
  "language_info": {
   "codemirror_mode": {
    "name": "ipython",
    "version": 3
   },
   "file_extension": ".py",
   "mimetype": "text/x-python",
   "name": "python",
   "nbconvert_exporter": "python",
   "pygments_lexer": "ipython3",
   "version": "3.10.3"
  },
  "orig_nbformat": 4,
  "vscode": {
   "interpreter": {
    "hash": "52634da84371cba311ea128a5ea7cdc41ff074b781779e754b270ff9f8153cee"
   }
  }
 },
 "nbformat": 4,
 "nbformat_minor": 2
}
