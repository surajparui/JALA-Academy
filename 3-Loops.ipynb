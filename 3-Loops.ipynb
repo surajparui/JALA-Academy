{
 "cells": [
  {
   "cell_type": "markdown",
   "metadata": {},
   "source": [
    "1. Write a program to print “Bright IT Career” ten times using for loop"
   ]
  },
  {
   "cell_type": "code",
   "execution_count": 1,
   "metadata": {},
   "outputs": [
    {
     "name": "stdout",
     "output_type": "stream",
     "text": [
      "Bright IT Career\n",
      "Bright IT Career\n",
      "Bright IT Career\n",
      "Bright IT Career\n",
      "Bright IT Career\n",
      "Bright IT Career\n",
      "Bright IT Career\n",
      "Bright IT Career\n",
      "Bright IT Career\n",
      "Bright IT Career\n"
     ]
    }
   ],
   "source": [
    "for _ in range(10):\n",
    "    print(\"Bright IT Career\")"
   ]
  },
  {
   "cell_type": "markdown",
   "metadata": {},
   "source": [
    "2. Write a java program to print 1 to 20 numbers using the while loop."
   ]
  },
  {
   "cell_type": "code",
   "execution_count": 2,
   "metadata": {},
   "outputs": [
    {
     "name": "stdout",
     "output_type": "stream",
     "text": [
      "1\n",
      "2\n",
      "3\n",
      "4\n",
      "5\n",
      "6\n",
      "7\n",
      "8\n",
      "9\n",
      "10\n",
      "11\n",
      "12\n",
      "13\n",
      "14\n",
      "15\n",
      "16\n",
      "17\n",
      "18\n",
      "19\n",
      "20\n"
     ]
    }
   ],
   "source": [
    "#python\n",
    "for i in range(1,21):\n",
    "    print(i)"
   ]
  },
  {
   "cell_type": "markdown",
   "metadata": {},
   "source": [
    "3. Program to equal operator and not equal operators"
   ]
  },
  {
   "cell_type": "code",
   "execution_count": 3,
   "metadata": {},
   "outputs": [
    {
     "name": "stdout",
     "output_type": "stream",
     "text": [
      "Number 1: 15\n",
      "Number 2: 12\n",
      "Not Equal\n"
     ]
    }
   ],
   "source": [
    "num1=int(input(\"Enter the first number:\"))\n",
    "print(\"Number 1:\",num1)\n",
    "num2=int(input(\"Enter the second number:\"))\n",
    "print(\"Number 2:\",num2)\n",
    "if num1==num2:\n",
    "    print(\"Equal\")\n",
    "if num1!=num2:\n",
    "    print(\"Not Equal\")"
   ]
  },
  {
   "cell_type": "markdown",
   "metadata": {},
   "source": [
    "4. Write a program to print the odd and even numbers."
   ]
  },
  {
   "cell_type": "code",
   "execution_count": 5,
   "metadata": {},
   "outputs": [
    {
     "name": "stdout",
     "output_type": "stream",
     "text": [
      "Number 1: 7\n",
      "Number 2: 9\n",
      "7 Odd\n",
      "8 Even\n",
      "9 Odd\n"
     ]
    }
   ],
   "source": [
    "num1=int(input(\"Enter the starting number:\"))\n",
    "print(\"Number 1:\",num1)\n",
    "num2=int(input(\"Enter the ending number:\"))\n",
    "print(\"Number 2:\",num2)\n",
    "for i in range(num1,num2+1):\n",
    "    if i%2==0:\n",
    "        print(i,\"Even\")\n",
    "    if i%2==1:\n",
    "        print(i,\"Odd\")"
   ]
  },
  {
   "cell_type": "code",
   "execution_count": 4,
   "metadata": {},
   "outputs": [
    {
     "name": "stdout",
     "output_type": "stream",
     "text": [
      "Number: 15\n",
      "15 Odd\n"
     ]
    }
   ],
   "source": [
    "i=int(input(\"Enter the starting number:\"))\n",
    "print(\"Number:\",i)\n",
    "if i%2==0:\n",
    "    print(i,\"Even\")\n",
    "if i%2==1:\n",
    "    print(i,\"Odd\")"
   ]
  },
  {
   "cell_type": "markdown",
   "metadata": {},
   "source": [
    "5. Write a program to print largest number among three numbers."
   ]
  },
  {
   "cell_type": "code",
   "execution_count": 11,
   "metadata": {},
   "outputs": [
    {
     "name": "stdout",
     "output_type": "stream",
     "text": [
      "Number 1: 777\n",
      "Number 2: 557\n",
      "Number 3: 888\n",
      "Largest: 888\n"
     ]
    }
   ],
   "source": [
    "i1=int(input(\"Enter the first number:\"))\n",
    "print(\"Number 1:\",i1)\n",
    "i2=int(input(\"Enter the second number:\"))\n",
    "print(\"Number 2:\",i2)\n",
    "i3=int(input(\"Enter the last number:\"))\n",
    "print(\"Number 3:\",i3)\n",
    "if i1>=i2:\n",
    "    if i1>i3:\n",
    "        largest=i1\n",
    "    elif i3>=i1:\n",
    "        largest=i3\n",
    "elif i2>i1:\n",
    "    if i2>i3:\n",
    "        largest=i2\n",
    "    elif i3>=i2:\n",
    "        largest=i3\n",
    "print(\"Largest:\",largest)"
   ]
  },
  {
   "cell_type": "markdown",
   "metadata": {},
   "source": [
    "6. Write a program to print even number between 10 and 20 using while"
   ]
  },
  {
   "cell_type": "code",
   "execution_count": 12,
   "metadata": {},
   "outputs": [
    {
     "name": "stdout",
     "output_type": "stream",
     "text": [
      "10\n",
      "11\n",
      "12\n",
      "13\n",
      "14\n",
      "15\n",
      "16\n",
      "17\n",
      "18\n",
      "19\n",
      "20\n"
     ]
    }
   ],
   "source": [
    "t=10\n",
    "while t>=10 and t<21:\n",
    "    print(t)\n",
    "    t=t+1"
   ]
  },
  {
   "cell_type": "markdown",
   "metadata": {},
   "source": [
    "7. Write a program to print 1 to 10 using the do-while loop statement"
   ]
  },
  {
   "cell_type": "markdown",
   "metadata": {},
   "source": [
    "#include <stdio.h>\n",
    " \n",
    "int main(void)\n",
    " {\n",
    "   int i = 1;\n",
    "   do {\n",
    "      printf(\"the value of i: %i\\n\", i);\n",
    "      i++;\n",
    "      }\n",
    "  while( i <= 10 );\n",
    " }"
   ]
  },
  {
   "cell_type": "markdown",
   "metadata": {},
   "source": [
    "8. Write a program to find Armstrong number or not"
   ]
  },
  {
   "cell_type": "code",
   "execution_count": 17,
   "metadata": {},
   "outputs": [
    {
     "name": "stdout",
     "output_type": "stream",
     "text": [
      "Number: 153\n",
      "It is Armstrong\n"
     ]
    }
   ],
   "source": [
    "n=int(input(\"Enter A Number:\"))\n",
    "print(\"Number:\",n)\n",
    "m=n\n",
    "armstrong=0\n",
    "while m:\n",
    "    armstrong=armstrong+(m%10)**3\n",
    "    m=m//10\n",
    "if n==armstrong:\n",
    "    print(\"It is Armstrong\")\n",
    "else:\n",
    "    print(\"It is not Armstrong\")"
   ]
  },
  {
   "cell_type": "markdown",
   "metadata": {},
   "source": [
    "9. Write a program to find the prime or not"
   ]
  },
  {
   "cell_type": "code",
   "execution_count": 20,
   "metadata": {},
   "outputs": [
    {
     "name": "stdout",
     "output_type": "stream",
     "text": [
      "Number: 5\n",
      "Prime\n"
     ]
    }
   ],
   "source": [
    "import math\n",
    "n=int(input(\"Enter A Number:\"))\n",
    "print(\"Number:\",n)\n",
    "counter=0\n",
    "for i in range(2,int(math.sqrt(n))):\n",
    "    if n%i==0:\n",
    "        counter=1\n",
    "        break\n",
    "if counter==0:\n",
    "    print(\"Prime\")\n",
    "else:\n",
    "    print(\"Not Prime\")"
   ]
  },
  {
   "cell_type": "code",
   "execution_count": 21,
   "metadata": {},
   "outputs": [
    {
     "name": "stdout",
     "output_type": "stream",
     "text": [
      "Number: 7\n",
      "Prime\n"
     ]
    }
   ],
   "source": [
    "n=int(input(\"Enter A Number:\"))\n",
    "print(\"Number:\",n)\n",
    "counter=0\n",
    "for i in range(2,n//2):\n",
    "    if n%i==0:\n",
    "        counter=1\n",
    "        break\n",
    "if counter==0:\n",
    "    print(\"Prime\")\n",
    "else:\n",
    "    print(\"Not Prime\")"
   ]
  },
  {
   "cell_type": "markdown",
   "metadata": {},
   "source": [
    "10. Write a program to palindrome or not."
   ]
  },
  {
   "cell_type": "code",
   "execution_count": 5,
   "metadata": {},
   "outputs": [
    {
     "name": "stdout",
     "output_type": "stream",
     "text": [
      "malam\n",
      "Palindrone\n"
     ]
    }
   ],
   "source": [
    "n=input(\"Enter A Word\")\n",
    "print(n)\n",
    "n=n.lower()\n",
    "m=[]\n",
    "for i in range(1,len(n)+1):\n",
    "    m.append(n[-i])\n",
    "m=\"\".join(m)\n",
    "if m==n:\n",
    "    print(\"Palindrone\")\n",
    "else:\n",
    "    print(\"Not Palindrone\")"
   ]
  },
  {
   "cell_type": "markdown",
   "metadata": {},
   "source": [
    "11. Program to check whether a number is EVEN or ODD using switch"
   ]
  },
  {
   "cell_type": "code",
   "execution_count": 6,
   "metadata": {},
   "outputs": [
    {
     "ename": "SyntaxError",
     "evalue": "invalid syntax (1609758030.py, line 3)",
     "output_type": "error",
     "traceback": [
      "\u001b[1;36m  Input \u001b[1;32mIn [6]\u001b[1;36m\u001b[0m\n\u001b[1;33m    using namespace std;\u001b[0m\n\u001b[1;37m          ^\u001b[0m\n\u001b[1;31mSyntaxError\u001b[0m\u001b[1;31m:\u001b[0m invalid syntax\n"
     ]
    }
   ],
   "source": [
    "#C++\n",
    "include <iostream>\n",
    "using namespace std;\n",
    "int main()\n",
    "{\n",
    "    int number;\n",
    "    cout<<\"Enter The number:\";\n",
    "    cin>>number;\n",
    "    switch (number%2)\n",
    "    {\n",
    "    case 1:\n",
    "    cout << \"Odd\";\n",
    "    break;\n",
    "    case 0:\n",
    "    cout << \"Even\";\n",
    "    break;\n",
    "    }\n",
    "    return 0;\n",
    "}\n"
   ]
  },
  {
   "cell_type": "markdown",
   "metadata": {},
   "source": [
    "12. Print gender (Male/Female) program according to given M/F using switch"
   ]
  },
  {
   "cell_type": "code",
   "execution_count": null,
   "metadata": {},
   "outputs": [],
   "source": [
    "#include <iostream>\n",
    "using namespace std;\n",
    "int main()\n",
    "{\n",
    "    char gender;\n",
    "    cout<<\"Enter The character:\";\n",
    "    cin>>gender;\n",
    "    switch (gender)\n",
    "    {\n",
    "    case 'm':\n",
    "    case 'M':\n",
    "    cout << \"Male\";\n",
    "    break;\n",
    "    case 'f':\n",
    "    case 'F':\n",
    "    cout << \"Female\";\n",
    "    break;\n",
    "    }\n",
    "    return 0;\n",
    "}\n"
   ]
  }
 ],
 "metadata": {
  "kernelspec": {
   "display_name": "Python 3.10.3 64-bit",
   "language": "python",
   "name": "python3"
  },
  "language_info": {
   "codemirror_mode": {
    "name": "ipython",
    "version": 3
   },
   "file_extension": ".py",
   "mimetype": "text/x-python",
   "name": "python",
   "nbconvert_exporter": "python",
   "pygments_lexer": "ipython3",
   "version": "3.10.3"
  },
  "orig_nbformat": 4,
  "vscode": {
   "interpreter": {
    "hash": "52634da84371cba311ea128a5ea7cdc41ff074b781779e754b270ff9f8153cee"
   }
  }
 },
 "nbformat": 4,
 "nbformat_minor": 2
}
