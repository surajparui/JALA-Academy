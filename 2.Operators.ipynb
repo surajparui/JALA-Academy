{
 "cells": [
  {
   "cell_type": "markdown",
   "metadata": {},
   "source": [
    "1. Write a function for arithmetic operators(+,-,*,/)"
   ]
  },
  {
   "cell_type": "code",
   "execution_count": 5,
   "metadata": {},
   "outputs": [
    {
     "name": "stdout",
     "output_type": "stream",
     "text": [
      "Choice: 1\n",
      "Number 1: 15\n",
      "Number 2: 14\n",
      "Addition: 29\n",
      "New Choice: 2\n",
      "Number 1: 15\n",
      "Number 2: 8\n",
      "Subtraction 7\n",
      "New Choice: 3\n",
      "Number 1: 45\n",
      "Number 2: 9\n",
      "Multiplication 405\n",
      "New Choice: 4\n",
      "Number 1: 45\n",
      "Number 2: 9\n",
      "Division 5.0\n",
      "New Choice: 0\n",
      "Thank You\n"
     ]
    }
   ],
   "source": [
    "def Calculator():\n",
    "    choice=int(input(\"Choose Operation \\n 1.Addition\\n 2.Subtraction\\n 3.Multiplication \\n 4.Division\\n 0.Exit\"))\n",
    "    print(\"Choice:\",choice)\n",
    "    while(choice):\n",
    "        num1=int(input(\"Enter the first number:\"))\n",
    "        print(\"Number 1:\",num1)\n",
    "        num2=int(input(\"Enter the second number:\"))\n",
    "        print(\"Number 2:\",num2)\n",
    "        if choice==1:\n",
    "            print(\"Addition:\",num1+num2)\n",
    "        elif choice==2:\n",
    "            print(\"Subtraction\",num1-num2)\n",
    "        elif choice==3:\n",
    "            print(\"Multiplication\",num1*num2)\n",
    "        elif choice==4:\n",
    "            print(\"Division\",num1/num2)\n",
    "        else:\n",
    "            print(\"Wrong Option\")\n",
    "        choice=int(input(\"Enter New Option:\"))\n",
    "        print(\"New Choice:\",choice)\n",
    "    print(\"Thank You\")\n",
    "Calculator()"
   ]
  },
  {
   "cell_type": "markdown",
   "metadata": {},
   "source": [
    "2. Write a method for increment and decrement operators(++, --)"
   ]
  },
  {
   "cell_type": "code",
   "execution_count": 7,
   "metadata": {},
   "outputs": [
    {
     "name": "stdout",
     "output_type": "stream",
     "text": [
      "1 1\n",
      "2 2\n",
      "3 3\n",
      "4 4\n",
      "5 5\n",
      "6 6\n",
      "7 7\n",
      "8 8\n",
      "7 7\n",
      "6 6\n",
      "5 5\n",
      "4 4\n",
      "3 3\n",
      "2 2\n",
      "1 1\n",
      "0 0\n"
     ]
    }
   ],
   "source": [
    "x=0\n",
    "y=0\n",
    "#increment methods\n",
    "for i in range (1,9):\n",
    "    x=x+1\n",
    "    y+=1\n",
    "    print(x,y)\n",
    "#decrement methods\n",
    "for i in range (1,9):\n",
    "    x=x-1\n",
    "    y-=1\n",
    "    print(x,y)"
   ]
  },
  {
   "cell_type": "markdown",
   "metadata": {},
   "source": [
    "3. Write a program to find the two numbers equal or not."
   ]
  },
  {
   "cell_type": "code",
   "execution_count": 8,
   "metadata": {},
   "outputs": [
    {
     "name": "stdout",
     "output_type": "stream",
     "text": [
      "Number 1: 15\n",
      "Number 2: 23\n",
      "Not Equal\n"
     ]
    }
   ],
   "source": [
    "num1=int(input(\"Enter the first number:\"))\n",
    "print(\"Number 1:\",num1)\n",
    "num2=int(input(\"Enter the second number:\"))\n",
    "print(\"Number 2:\",num2)\n",
    "if num1==num2:\n",
    "    print(\"Equal\")\n",
    "else:\n",
    "    print(\"Not Equal\")"
   ]
  }
 ],
 "metadata": {
  "kernelspec": {
   "display_name": "Python 3.10.3 64-bit",
   "language": "python",
   "name": "python3"
  },
  "language_info": {
   "codemirror_mode": {
    "name": "ipython",
    "version": 3
   },
   "file_extension": ".py",
   "mimetype": "text/x-python",
   "name": "python",
   "nbconvert_exporter": "python",
   "pygments_lexer": "ipython3",
   "version": "3.10.3"
  },
  "orig_nbformat": 4,
  "vscode": {
   "interpreter": {
    "hash": "52634da84371cba311ea128a5ea7cdc41ff074b781779e754b270ff9f8153cee"
   }
  }
 },
 "nbformat": 4,
 "nbformat_minor": 2
}
