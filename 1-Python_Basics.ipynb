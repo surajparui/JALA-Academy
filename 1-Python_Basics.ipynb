{
 "cells": [
  {
   "cell_type": "markdown",
   "metadata": {},
   "source": [
    "1. Write a program to print your name"
   ]
  },
  {
   "cell_type": "code",
   "execution_count": 1,
   "metadata": {},
   "outputs": [
    {
     "name": "stdout",
     "output_type": "stream",
     "text": [
      "Suraj M Parui\n"
     ]
    }
   ],
   "source": [
    "print(\"Suraj M Parui\")"
   ]
  },
  {
   "cell_type": "markdown",
   "metadata": {},
   "source": [
    "2. Write a program for a Single line comment and multi-line comments"
   ]
  },
  {
   "cell_type": "code",
   "execution_count": 4,
   "metadata": {},
   "outputs": [],
   "source": [
    "#Single line Comment\n",
    "\n",
    "\n",
    "\n",
    "# Multi\n",
    "# Line\n",
    "# Comment\n",
    "# ctrl + /"
   ]
  },
  {
   "cell_type": "markdown",
   "metadata": {},
   "source": [
    "3. Define variables for different Data Types int, Boolean, char, float, double and print on the Console."
   ]
  },
  {
   "cell_type": "code",
   "execution_count": 7,
   "metadata": {},
   "outputs": [
    {
     "name": "stdout",
     "output_type": "stream",
     "text": [
      "3\n",
      "<class 'int'>\n",
      "True\n",
      "<class 'bool'>\n",
      "Suraj\n",
      "<class 'str'>\n",
      "12.3\n",
      "<class 'float'>\n",
      "[1, 2, 3, 4, 5]\n",
      "<class 'list'>\n",
      "{1, 2, 3, 4, 5}\n",
      "<class 'set'>\n",
      "{1: 2, 3: 4, 5: 6, 7: 8, 9: 0}\n",
      "<class 'dict'>\n",
      "(1, 2, 3, 4, 5, 6, 1)\n",
      "<class 'tuple'>\n"
     ]
    }
   ],
   "source": [
    "Integer=3\n",
    "print(Integer)\n",
    "print(type(Integer))\n",
    "BOOL=True\n",
    "print(BOOL)\n",
    "print(type(BOOL))\n",
    "character=\"Suraj\"\n",
    "print(character)\n",
    "print(type(character))\n",
    "Float=12.3\n",
    "print(Float)\n",
    "print(type(Float))\n",
    "#Python has no double data type\n",
    "#one can use float for the same\n",
    "\n",
    "# Additional Data types\n",
    "#list\n",
    "List1=[1,2,3,4,5]\n",
    "print(List1)\n",
    "print(type(List1))\n",
    "#set\n",
    "set1={1,2,3,4,5,1}\n",
    "print(set1)\n",
    "print(type(set1))\n",
    "#dictionary\n",
    "dict1={1:2,3:4,5:6,7:8,9:0}\n",
    "print(dict1)\n",
    "print(type(dict1))\n",
    "#tuple\n",
    "tuple1=(1,2,3,4,5,6,1)\n",
    "print(tuple1)\n",
    "print(type(tuple1))"
   ]
  },
  {
   "cell_type": "markdown",
   "metadata": {},
   "source": [
    "4. Define the local and Global variables with the same name and print both variables and understand the scope of the variables"
   ]
  },
  {
   "cell_type": "code",
   "execution_count": 11,
   "metadata": {},
   "outputs": [
    {
     "name": "stdout",
     "output_type": "stream",
     "text": [
      "Local scope fantastic\n",
      "Global scope in myfunc1 awesome\n",
      "Global scope awesome\n"
     ]
    }
   ],
   "source": [
    "x = \"awesome\"\n",
    "\n",
    "\n",
    "def myfunc():\n",
    "  x = \"fantastic\"\n",
    "  print(\"Local scope \" + x)\n",
    "\n",
    "\n",
    "def myfunc1():\n",
    "    print(\"Global scope in myfunc1 \" + x)\n",
    "\n",
    "\n",
    "myfunc()\n",
    "myfunc1()\n",
    "\n",
    "\n",
    "print(\"Global scope \" + x)\n"
   ]
  }
 ],
 "metadata": {
  "kernelspec": {
   "display_name": "Python 3.10.3 64-bit",
   "language": "python",
   "name": "python3"
  },
  "language_info": {
   "codemirror_mode": {
    "name": "ipython",
    "version": 3
   },
   "file_extension": ".py",
   "mimetype": "text/x-python",
   "name": "python",
   "nbconvert_exporter": "python",
   "pygments_lexer": "ipython3",
   "version": "3.10.3"
  },
  "orig_nbformat": 4,
  "vscode": {
   "interpreter": {
    "hash": "52634da84371cba311ea128a5ea7cdc41ff074b781779e754b270ff9f8153cee"
   }
  }
 },
 "nbformat": 4,
 "nbformat_minor": 2
}
